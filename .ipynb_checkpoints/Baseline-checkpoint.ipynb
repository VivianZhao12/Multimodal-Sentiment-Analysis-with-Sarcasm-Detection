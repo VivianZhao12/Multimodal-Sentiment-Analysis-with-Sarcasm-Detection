{
 "cells": [
  {
   "cell_type": "code",
   "execution_count": 2,
   "id": "1c06279c",
   "metadata": {},
   "outputs": [],
   "source": [
    "import sklearn\n",
    "import imblearn\n",
    "import pandas as pd\n",
    "from sklearn.model_selection import train_test_split\n",
    "from sklearn.linear_model import LogisticRegression\n",
    "from sklearn.naive_bayes import GaussianNB\n",
    "from sklearn.metrics import accuracy_score, confusion_matrix, classification_report\n",
    "\n",
    "import numpy as np\n",
    "from sklearn.preprocessing import StandardScaler\n",
    "from sklearn.metrics import accuracy_score, confusion_matrix, classification_report\n",
    "from imblearn.over_sampling import SMOTE  # For oversampling"
   ]
  },
  {
   "cell_type": "code",
   "execution_count": 3,
   "id": "b1f2a2b6",
   "metadata": {},
   "outputs": [
    {
     "data": {
      "text/plain": [
       "Index(['Unnamed: 0.1', 'Unnamed: 0', 'sarcasm_label', 'emotion_label',\n",
       "       'sentiment_label', 'id', 'spectral_centroid', 'spectral_bandwidth',\n",
       "       'pitch', 'energy', 'loudness', 'sentence_level_similarity_emotion',\n",
       "       'sentence_level_similarity_word', 'exclamation', 'PCA_1', 'PCA_2',\n",
       "       'PCA_3', 'PCA_4', 'PCA_5', 'PCA_6', 'PCA_7', 'PCA_8', 'PCA_9', 'PCA_10',\n",
       "       'PCA_11', 'PCA_12', 'PCA_13', 'PCA_14', 'PCA_15', 'PCA_16', 'PCA_17',\n",
       "       'PCA_18', 'PCA_19', 'PCA_20', 'PCA_21', 'PCA_22', 'PCA_23', 'PCA_24',\n",
       "       'PCA_25', 'PCA_26', 'PCA_27', 'PCA_28', 'PCA_29', 'PCA_30', 'PCA_31',\n",
       "       'PCA_32', 'PCA_33', 'PCA_34', 'PCA_35', 'PCA_36', 'PCA_37', 'PCA_38',\n",
       "       'PCA_39', 'PCA_40', 'PCA_41', 'PCA_42', 'PCA_43', 'PCA_44', 'PCA_45',\n",
       "       'PCA_46', 'PCA_47', 'PCA_48', 'PCA_49', 'PCA_50'],\n",
       "      dtype='object')"
      ]
     },
     "execution_count": 3,
     "metadata": {},
     "output_type": "execute_result"
    }
   ],
   "source": [
    "df = pd.read_csv('datasets/sarcasm_dataset.csv')\n",
    "df.columns"
   ]
  },
  {
   "cell_type": "code",
   "execution_count": 7,
   "id": "453ffd75",
   "metadata": {
    "scrolled": true
   },
   "outputs": [
    {
     "name": "stdout",
     "output_type": "stream",
     "text": [
      "Logistic Regression Results:\n",
      "Accuracy: 0.71\n",
      "Confusion Matrix:\n",
      " [[27 11]\n",
      " [ 4 10]]\n",
      "Classification Report:\n",
      "               precision    recall  f1-score   support\n",
      "\n",
      "           0       0.87      0.71      0.78        38\n",
      "           1       0.48      0.71      0.57        14\n",
      "\n",
      "    accuracy                           0.71        52\n",
      "   macro avg       0.67      0.71      0.68        52\n",
      "weighted avg       0.76      0.71      0.73        52\n",
      "\n"
     ]
    }
   ],
   "source": [
    "# Define the feature columns and target column\n",
    "feature_columns = [\n",
    "    'spectral_centroid', 'spectral_bandwidth', 'pitch', 'energy', 'loudness',\n",
    "    'sentence_level_similarity_emotion', 'sentence_level_similarity_word',\n",
    "    'exclamation'\n",
    "] + [f'PCA_{i}' for i in range(1, 51)]  # Add PCA_1 to PCA_50\n",
    "target_column = 'sarcasm_label'\n",
    "\n",
    "# Load your DataFrame (assuming 'temp' is your DataFrame)\n",
    "X = df[feature_columns]  # Replace 'temp' with your actual DataFrame\n",
    "y = df[target_column]\n",
    "\n",
    "# Scale the features\n",
    "scaler = StandardScaler()\n",
    "X_scaled = scaler.fit_transform(X)\n",
    "\n",
    "# Split the data into training and testing sets\n",
    "X_train, X_test, y_train, y_test = train_test_split(X_scaled, y, test_size=0.2, random_state=42, stratify=y)\n",
    "\n",
    "# Handle class imbalance using SMOTE\n",
    "smote = SMOTE(random_state=42)\n",
    "X_train_resampled, y_train_resampled = smote.fit_resample(X_train, y_train)\n",
    "\n",
    "# Logistic Regression with increased iterations and class balancing\n",
    "logistic_model = LogisticRegression(max_iter=500, random_state=42)\n",
    "logistic_model.fit(X_train_resampled, y_train_resampled)\n",
    "\n",
    "# Predict on the test set\n",
    "y_pred_logistic = logistic_model.predict(X_test)\n",
    "\n",
    "# Evaluate Logistic Regression Model\n",
    "print(\"Logistic Regression Results:\")\n",
    "print(f\"Accuracy: {accuracy_score(y_test, y_pred_logistic):.2f}\")\n",
    "print(\"Confusion Matrix:\\n\", confusion_matrix(y_test, y_pred_logistic))\n",
    "print(\"Classification Report:\\n\", classification_report(y_test, y_pred_logistic))"
   ]
  },
  {
   "cell_type": "code",
   "execution_count": 8,
   "id": "e2676e06",
   "metadata": {},
   "outputs": [
    {
     "name": "stdout",
     "output_type": "stream",
     "text": [
      "\n",
      "Naive Bayes Results:\n",
      "Accuracy: 0.73\n",
      "Confusion Matrix:\n",
      " [[24 14]\n",
      " [ 0 14]]\n",
      "Classification Report:\n",
      "               precision    recall  f1-score   support\n",
      "\n",
      "           0       1.00      0.63      0.77        38\n",
      "           1       0.50      1.00      0.67        14\n",
      "\n",
      "    accuracy                           0.73        52\n",
      "   macro avg       0.75      0.82      0.72        52\n",
      "weighted avg       0.87      0.73      0.75        52\n",
      "\n"
     ]
    }
   ],
   "source": [
    "# Naive Bayes Model\n",
    "from sklearn.naive_bayes import GaussianNB\n",
    "\n",
    "nb_model = GaussianNB()\n",
    "nb_model.fit(X_train_resampled, y_train_resampled)\n",
    "y_pred_nb = nb_model.predict(X_test)\n",
    "\n",
    "# Evaluate Naive Bayes Model\n",
    "print(\"\\nNaive Bayes Results:\")\n",
    "print(f\"Accuracy: {accuracy_score(y_test, y_pred_nb):.2f}\")\n",
    "print(\"Confusion Matrix:\\n\", confusion_matrix(y_test, y_pred_nb))\n",
    "print(\"Classification Report:\\n\", classification_report(y_test, y_pred_nb))"
   ]
  },
  {
   "cell_type": "code",
   "execution_count": null,
   "id": "b750e9fc",
   "metadata": {},
   "outputs": [],
   "source": []
  }
 ],
 "metadata": {
  "kernelspec": {
   "display_name": "Python 3 (ipykernel)",
   "language": "python",
   "name": "python3"
  },
  "language_info": {
   "codemirror_mode": {
    "name": "ipython",
    "version": 3
   },
   "file_extension": ".py",
   "mimetype": "text/x-python",
   "name": "python",
   "nbconvert_exporter": "python",
   "pygments_lexer": "ipython3",
   "version": "3.11.5"
  }
 },
 "nbformat": 4,
 "nbformat_minor": 5
}
